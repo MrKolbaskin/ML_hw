{
 "cells": [
  {
   "cell_type": "markdown",
   "metadata": {},
   "source": [
    "# Алгоритмы интеллектуальной обработки больших объемов данных\n",
    "## Домашнее задание №4 - Алгоритмы кластеризации\n"
   ]
  },
  {
   "cell_type": "markdown",
   "metadata": {},
   "source": [
    "###### <hr\\>\n",
    "**Общая информация**\n",
    "\n",
    "**Срок сдачи:** 10 декабря 2019, 06:00 <br\\>\n",
    "**Штраф за опоздание:** -2 балла после 06:00 10 декабря, -4 балла после 06:00 17 декабря, -6 баллов после 06:00 24 декабря -8 баллов  после 06:00 31 декабря\n",
    "\n",
    "При отправлении ДЗ указывайте фамилию в названии файла Присылать ДЗ необходимо в виде ссылки на свой github репозиторий на почту ml1.sphere@mail.ru с указанием темы в следующем формате:\n",
    "[ML0919, Задание 4] Фамилия Имя\n",
    "\n",
    "Используйте данный Ipython Notebook при оформлении домашнего задания.\n",
    "<hr\\>"
   ]
  },
  {
   "cell_type": "markdown",
   "metadata": {},
   "source": [
    "**Из чего состоит задание:**\n",
    "\n",
    "###### Теоретические вопросы (2 балла)\n",
    "\n",
    "###### Реализация алгоритма кластеризации (5 баллов)\n",
    "\n",
    "###### Боевое применение (3 балла)\n",
    "\n",
    "\n"
   ]
  },
  {
   "cell_type": "markdown",
   "metadata": {},
   "source": [
    "**Штрафные баллы:**\n",
    "\n",
    "1. Невыполнение PEP8 -1 балл\n",
    "2. Отсутствие фамилии в имени скрипта (скрипт должен называться по аналогии со stroykova_hw4.ipynb) -1 балл\n",
    "3. Все строчки должны быть выполнены. Нужно, чтобы output команды можно было увидеть уже в git'е. В противном случае -1 балл\n",
    "4. При оформлении ДЗ нужно пользоваться данным файлом в качестве шаблона. Не нужно удалять и видоизменять написанный код и текст. В противном случае -1 балл"
   ]
  },
  {
   "cell_type": "code",
   "execution_count": 272,
   "metadata": {},
   "outputs": [
    {
     "name": "stdout",
     "output_type": "stream",
     "text": [
      "Populating the interactive namespace from numpy and matplotlib\n"
     ]
    }
   ],
   "source": [
    "import time\n",
    "import pandas as pd\n",
    "import pylab as pl\n",
    "import numpy as np\n",
    "import sklearn\n",
    "import scipy.spatial as ss\n",
    "import sklearn.cluster as sc\n",
    "import sklearn.manifold as sm\n",
    "import sklearn.datasets as ds\n",
    "import sklearn.metrics as smt\n",
    "from sklearn.mixture import GaussianMixture\n",
    "from sklearn.cluster import AgglomerativeClustering\n",
    "from scipy.cluster.hierarchy import dendrogram\n",
    "\n",
    "import matplotlib.pyplot as plt\n",
    "\n",
    "%matplotlib inline\n",
    "\n",
    "plt.style.use('ggplot')\n",
    "plt.rcParams['figure.figsize'] = (12,5)\n",
    "\n",
    "# Plotting config\n",
    "%pylab inline"
   ]
  },
  {
   "cell_type": "markdown",
   "metadata": {},
   "source": [
    "# Теоретическое введение\n"
   ]
  },
  {
   "cell_type": "markdown",
   "metadata": {},
   "source": [
    "Основная задача кластерного анализа — разбиение исходного набора объектов на группы (кластеры) таким образом, чтобы объекты в группе были похожи друг на друга, а объекты из разных групп - отличались. \n",
    "\n",
    "В этой работе мы будем реализовывать агломеративную кластеризацию. "
   ]
  },
  {
   "cell_type": "markdown",
   "metadata": {
    "collapsed": true
   },
   "source": [
    "## Агломеративная кластеризация"
   ]
  },
  {
   "cell_type": "markdown",
   "metadata": {},
   "source": [
    "Иерархические алгоритмы кластеризации строят на выборке систему вложенных разбиений.  Наиболее часто испоьзуемые иерархические алгоритмы - агломеративные алгоритмы, которые строят ирархию по восходящей, то есть от момента, когда все элементы являются отдельными кластерами, до того момента, пока вся выборка не станет одним кластером."
   ]
  },
  {
   "cell_type": "markdown",
   "metadata": {},
   "source": [
    "Сам алгоритм описать можно примерно так:\n",
    "\n",
    "* начинаем с ситуации, когда каждый объект - отдельный кластер\n",
    "* на каждом шаге совмещаем два наиболее близких кластера\n",
    "* останавливаемся, когда получаем требуемое количество или единственный кластер"
   ]
  },
  {
   "cell_type": "markdown",
   "metadata": {},
   "source": [
    "\n",
    "В данной работе Вам предлагается реализовать три варианта расстояний между кластерами, по которым Вы определяете пару для слияния: \n",
    "* Single linkage\n",
    "$$ d_{min}(C_i, C_j) = \\min_{\\mathbf{x} \\in C_i, \\mathbf{x}' \\in C_j} \\|\\mathbf{x} -\\mathbf{x}' \\| $$\n",
    "\n",
    "* Complete linkage\n",
    "$$ d_{max}(C_i, C_j) = \\max_{\\mathbf{x} \\in C_i, \\mathbf{x}' \\in C_j} \\|\\mathbf{x} -\\mathbf{x}' \\| $$\n",
    "\n",
    "* Average linkage\n",
    "$$ d_{avg}(C_i, C_j) = \\frac{1}{n_i n_j}\\sum_{\\mathbf{x} \\in C_i}\\sum_{\\mathbf{x}' \\in C_j} \\|\\mathbf{x} -\\mathbf{x}' \\| $$\n",
    "\n",
    "Как считать расстояние $\\|\\mathbf{x} -\\mathbf{x}' \\|$ между объектами Вы должны выбрать сами.  Вы должны четко понимать, что выбор расстояния между объектами - самое важное в такого рода алгоритмах. Передавайте название расстояния в конструктор класса, а потом, в зависимости от названия, применяете ту или иную функцию для подсчета расстояния. \n",
    "\n"
   ]
  },
  {
   "cell_type": "markdown",
   "metadata": {},
   "source": [
    "Для того, чтобы на втором этапе нам не пересчитывать заново расстояния между всеми парами кластеров, можно использовать Формулы Ланса-Вильямса, которые позволяют посчитать расстояние между кластерами после объединения, используя только расстояния между кластерами до объедения.  Таким образом, достаточно будет посчитать расстояния только между всеми одноэлементными кластерами (первый этап), а затем пересчитывать расстояния при их объединении через \n",
    "формулы Ланса-Вильямса. \n",
    "\n",
    "Общая  формула выглядит так:\n",
    "$$ d(C_i \\cup C_j, C_k) = a_i \\cdot d(C_i, C_k) + a_j \\cdot d(C_j, C_k) + b \\cdot d(C_i, C_j) + c \\cdot |d(C_i, C_k) - d(C_j, C_k)|$$\n",
    "\n",
    "Можно показать, что все относительно разумные кластерные расстояния можно описать данной формулой. \n",
    "\n",
    "Для интересущих нас linkage:\n",
    "\n",
    "* single-linkage       $a_i = \\frac{1}{2}, a_j =  \\frac{1}{2}, b = 0, c =  - \\frac{1}{2} $\n",
    "\n",
    "* complete-linkage     $a_i = \\frac{1}{2}, a_j =  \\frac{1}{2}, b = 0, c =   \\frac{1}{2} $\n",
    "\n",
    "* average-linkage       $a_i = \\frac{|C_i|}{|C_i \\cup C_j|}, a_j =  \\frac{|C_j|}{|C_i \\cup C_j|}, b = 0, c = 0 $\n",
    "\n"
   ]
  },
  {
   "cell_type": "markdown",
   "metadata": {},
   "source": [
    "# Теоретические вопросы (2 балла)\n",
    "В этой части Вам будут предложены теоретичские вопросы и задачи по теме. Вы, конечно, можете списать их у своего товарища или найти решение в интернете, но учтите, что они обязательно войдут в теоретический коллоквиум. Лучше разобраться в теме сейчас и успешно ответить на коллоквиуме, чем списать, не разобравшись в материале, и быть терзаемым совестью. \n",
    "\n",
    "\n",
    "Формулы надо оформлять в формате **LaTeX**."
   ]
  },
  {
   "cell_type": "markdown",
   "metadata": {},
   "source": [
    "Задача 1. Сходимость kmeans.\n",
    "\n",
    "Докажите, что kmeans всегда сходится, и итераций не будет превышать $k^N$, где $k$ $-$ число кластеров, $N$ $-$ число объектов\n",
    "\n",
    "Подсказка: Вам стоит рассмотреть функционал, который минимизирует алгоритм, и подумать, как он изменяется на E шаге и на M шаге.\n",
    "\n"
   ]
  },
  {
   "cell_type": "markdown",
   "metadata": {},
   "source": [
    "***Ваше решение здесь***\n",
    "\n",
    "Всего существует $k^N$ вариантов разбиения $N$ элементов на $k$ кластеров. При этом на E и M шаге функционал не возрастает. Так как последовательность функционала ограничена, например нулем, то по теореме Вейерштрасса она сходится. И т.к. разбиений всего $k^N$, то за меньшее число шагов чем $k^N$ функционал сходится"
   ]
  },
  {
   "cell_type": "markdown",
   "metadata": {},
   "source": [
    "Задача 2.  ММП для многомерного нормального распределения.\n",
    "\n",
    "Функция правдоподобия в общем случае записывается как:\n",
    "￼\n",
    "￼$$ L(\\theta) = p(X | \\theta ) = \\prod_{i=1}^N p(x_i | \\theta)$$\n",
    "\n",
    "Для многомерного нормального распределения плотность вероятности:\n",
    "$$p(x_i| \\theta) = \\frac{1}{(2\\pi)^{n/2}|\\Sigma|^{1/2}}e^{-\\frac{1}{2} (x_i - \\mu)^T\\Sigma^{-1}(x_i - \\mu)}$$\n",
    "\n",
    "Выведите ММП оценку для вектора $\\mu$\n",
    "￼"
   ]
  },
  {
   "cell_type": "markdown",
   "metadata": {},
   "source": [
    "Распишем логарифмическую функцию правдоподобия\n",
    "\n",
    "$$ln(L(\\theta)) = \\sum_{i = 1}^{N} ln(\\frac{1}{(2\\pi) ^ {n / 2} * |\\Sigma| ^ {1 / 2}} * e ^ {-\\frac{1}{2}(x_i - \\mu) ^ {T} \\Sigma ^ {-1}(x_i - \\mu)})$$\n",
    "\n",
    "$$ln(L(\\theta)) = N * ln(\\frac{1}{(2\\pi) ^ {n / 2} * |\\Sigma| ^ {1 / 2}}) - \\frac{1}{2} \\sum_{i = 1}^{N}(x_i - \\mu) ^ {T} \\Sigma ^ {-1}(x_i - \\mu)$$\n",
    "\n",
    "Так как необходимо найти оценку для параметра $\\mu$, то продифференцируем по $\\mu$ получим\n",
    "\n",
    "$$ -\\frac{1}{2}(\\Sigma ^ {-1} + (\\Sigma ^ {-1}) ^ T)\\sum_{i = 1} ^ {N}(x_{i} - \\mu)$$\n",
    "\n",
    "Тогда $\\mu = \\frac{1}{N}\\sum x_i$"
   ]
  },
  {
   "cell_type": "markdown",
   "metadata": {},
   "source": [
    "Задача 3. Формулы Ланса-Вильямса.\n",
    "\n",
    "Формулы Ланса-Вильямса крайне удобны для быстрого пересчта расстояний в агломеративной кластеризации. Давайте докажем  формулы для single и complete linkage. \n",
    "\n",
    "Докажите, что:\n",
    "\n",
    "$d_{\\min}(U \\cup V, S) = \\frac{1}{2} d_{\\min}(U, S) + \\frac{1}{2} d_{\\min}(V, S)  - \\frac{1}{2} | d_{\\min}(U, S) - d_{\\min}(V, S) |  $\n",
    "\n",
    "\n",
    "$d_{\\max}(U \\cup V, S) = \\frac{1}{2} d_{\\max}(U, S) + \\frac{1}{2} d_{\\max}(V, S)  + \\frac{1}{2} | d_{\\max}(U, S) - d_{\\max}(V, S) |  $\n",
    "\n",
    "\n"
   ]
  },
  {
   "cell_type": "markdown",
   "metadata": {},
   "source": [
    "***Ваше решение здесь***"
   ]
  },
  {
   "cell_type": "markdown",
   "metadata": {},
   "source": [
    " $d_{\\min}(U \\cup V, S) = min(d_{\\min}(U, S),\\: d_{\\min}(V, S))  $\n",
    " \n",
    "Положим $I_1 = I(d_{\\min}(U, S) - d_{\\min}(V, S) \\geq 0)$\n",
    "\n",
    "$I_2 = I(d_{\\min}(U, S) - d_{\\min}(V, S) \\leq 0)$\n",
    "\n",
    "Распишем $d_{\\min}(U \\cup V, S)$ через $I_1 \\, и\\, I_2$\n",
    "\n",
    "$d_{\\min}(U \\cup V, S) = I_1  d_{\\min}(U, S) + (1 - I_1)  d_{\\min}(V, S)$\n",
    "\n",
    "$d_{\\min}(U \\cup V, S) = I_1  (d_{\\min}(U, S) - d_{\\min}(V, S)) + d_{\\min}(V, S)$\n",
    "\n",
    "$d_{\\min}(U \\cup V, S) = I_2  d_{\\min}(U, S) + (1 - I_2)  d_{\\min}(V, S)$\n",
    "\n",
    "$d_{\\min}(U \\cup V, S) = -I_2  (d_{\\min}(U, S) - d_{\\min}(V, S)) + d_{\\min}(U, S)$\n",
    "\n",
    "Тогда $$2 * d_{\\min}(U \\cup V, S) = (I_1 - I_2) * (d_{\\min}(U, S) - d_{\\min}(V, S)) + d_{\\min}(V, S) + d_{\\min}(U, S)$$\n",
    "\n",
    "$$d_{\\min}(U \\cup V, S) = \\frac{(I_1 - I_2)}{2} * (d_{\\min}(U, S) - d_{\\min}(V, S)) + \\frac{1}{2} d_{\\min}(V, S) + \\frac{1}{2} d_{\\min}(U, S)$$\n",
    "\n",
    "Рассмотрим $\\frac{I_1 - I_2}{2}$, она принимает 2 значения $\\frac{1}{2} \\, и \\, -\\frac{1}{2}$ возьмем модуль $d_{\\min}(U, S) - d_{\\min}(V, S)$, тогда можно взять только $-\\frac{1}{2}$\n",
    "\n",
    "$$d_{\\min}(U \\cup V, S) = -\\frac{1}{2} * |d_{\\min}(U, S) - d_{\\min}(V, S)| + \\frac{1}{2} d_{\\min}(V, S) + \\frac{1}{2} d_{\\min}(U, S)$$\n",
    "\n",
    "Что и требовалось доказать!"
   ]
  },
  {
   "cell_type": "markdown",
   "metadata": {},
   "source": [
    "Аналогично можно сделать, когда берем $d_{\\max}$"
   ]
  },
  {
   "cell_type": "markdown",
   "metadata": {},
   "source": [
    "# Реализация алгоритма кластеризации  (5 баллов)"
   ]
  },
  {
   "cell_type": "markdown",
   "metadata": {},
   "source": [
    "Алгоритм кластеризации должен удовлетворять следующему интерфейсу. Конструктор принимает набор параметров, необходимых для работы алгоритма кластеризации. Метод `fit` подсчитывает параметры модели и возвращает `self`. Метод `predict` возвращает вектор с индексами кластеров для поданных в него объектов `x`. "
   ]
  },
  {
   "cell_type": "code",
   "execution_count": 416,
   "metadata": {},
   "outputs": [],
   "source": [
    "from sklearn.base import BaseEstimator, ClusterMixin\n",
    "\n",
    "\n",
    "class Clustering(BaseEstimator, ClusterMixin):\n",
    "    \"\"\"\n",
    "    Implement clustering algorithm according \n",
    "    \"\"\"\n",
    "    \n",
    "    def __init__(self, metric='euclidean', n_clusters=2, linkage='single', **kwargs):\n",
    "        \"\"\"\n",
    "        metric - string with name of metric, for example, euclidean\n",
    "        Please add necessary algoritm parameters to class constructor.\n",
    "        \"\"\"\n",
    "        \n",
    "        self.__metric = metric\n",
    "        self.__n_clusters = n_clusters\n",
    "        self.__linkage = linkage\n",
    "\n",
    "    def __lans_will(self, d_1, d_2, id_cl1, id_cl2):\n",
    "        if self.__linkage == 'single':\n",
    "            return 0.5 *(d_1 + d_2 - np.abs(d_1 - d_2))\n",
    "        elif self.__linkage == 'complete':\n",
    "            return 0.5 *(d_1 + d_2 + np.abs(d_1 - d_2))\n",
    "        elif self.__linkage == 'average':\n",
    "            count_cl1 = len(self.__clusters[id_cl1])\n",
    "            count_cl2 = len(self.__clusters[id_cl2])\n",
    "            return (count_cl1 / (count_cl1 + count_cl2)) * d_1 + (count_cl2 / (count_cl1 + count_cl2)) * d_2\n",
    "    \n",
    "    def predict(self, X):\n",
    "        pred = [0] * X.shape[0]\n",
    "        for ind_cl in range(len(self.__clusters)):\n",
    "            for obj in self.__clusters[ind_cl]:\n",
    "                pred[obj] = ind_cl\n",
    "        return pred\n",
    "    \n",
    "    def fit_predict(self, X):\n",
    "        \"\"\"\n",
    "        Use data matrix x to compute model parameters and predict clusters\n",
    "        \"\"\"\n",
    "        self.__dist = smt.pairwise_distances(X, metric=self.__metric)\n",
    "        count = X.shape[0]\n",
    "        tmp_cl = count\n",
    "        np.fill_diagonal(self.__dist, np.inf)\n",
    "        self.__clusters = [[i] for i in range(count)]\n",
    "        self.__dendrogram = []\n",
    "        dict_sup = {i : i for i in range(count)}\n",
    "        pred = np.arange(X.shape[0])\n",
    "        while(count != 1):\n",
    "            min_ind = np.unravel_index(np.argmin(self.__dist), self.__dist.shape)\n",
    "            dist = self.__dist[min_ind]\n",
    "            min_ind0 = np.min(min_ind)\n",
    "            min_ind1 = np.max(min_ind)\n",
    "            self.__dendrogram.append([dict_sup[min_ind0], dict_sup[min_ind1], dist,\n",
    "                                      len(self.__clusters[min_ind0]) + len(self.__clusters[min_ind1])])\n",
    "            dict_sup[min_ind0] = tmp_cl\n",
    "            for t in range(min_ind1, count - 1):\n",
    "                dict_sup[t] = dict_sup[t + 1]\n",
    "            dict_sup.pop(count - 1)\n",
    "            tmp_cl += 1\n",
    "            self.__dist = np.delete(self.__dist, min_ind1, axis=1)\n",
    "            new_row = [self.__lans_will(self.__dist[min_ind0, i],\n",
    "                                        self.__dist[min_ind1, i],\n",
    "                                        min_ind0,\n",
    "                                        min_ind1) if i != min_ind0 else np.inf \n",
    "                       for i in range(self.__dist.shape[1])]\n",
    "            self.__dist = np.delete(self.__dist, min_ind[1], axis=0)\n",
    "            self.__dist[min_ind0] = new_row\n",
    "            tmp = self.__clusters[min_ind1]\n",
    "            self.__clusters[min_ind0] += tmp\n",
    "            self.__clusters.pop(min_ind1)\n",
    "            count -= 1\n",
    "            if count == self.__n_clusters:\n",
    "                for ind in range(count):\n",
    "                    pred[self.__clusters[ind]] = ind\n",
    "        return pred\n",
    "    \n",
    "    def plot_dendrogram(self):\n",
    "        \"\"\"\n",
    "        Try to visualize our data\n",
    "        \"\"\"\n",
    "        dendrogram(self.__dendrogram)\n",
    "        plt.show()"
   ]
  },
  {
   "cell_type": "markdown",
   "metadata": {},
   "source": [
    "Сначала проверим реализованный алгоритм кластеризации на классическом наборе данных [Iris](http://www.wikiwand.com/en/Iris_flower_data_set). Загрузим данные (они включены в библиотеку sklearn) и посмотрим на то, как они выглядят в двух проекциях (для простоты используем 2 класса из 3)."
   ]
  },
  {
   "cell_type": "code",
   "execution_count": 359,
   "metadata": {
    "scrolled": true
   },
   "outputs": [
    {
     "data": {
      "image/png": "[encoded data removed]",
      "text/plain": [
       "<Figure size 720x360 with 2 Axes>"
      ]
     },
     "metadata": {
      "needs_background": "light"
     },
     "output_type": "display_data"
    }
   ],
   "source": [
    "iris = ds.load_iris()\n",
    "x_iris = iris.data[:100]\n",
    "y_iris = iris.target[:100]\n",
    "\n",
    "pl.figure(figsize=(10, 5))\n",
    "\n",
    "pl.subplot(1, 2, 1)\n",
    "pl.scatter(x_iris[:, 0], x_iris[:, 1], c=y_iris, cmap=pl.cm.PuOr, lw=0, s=30)\n",
    "plt.xlabel('Sepal length')\n",
    "plt.ylabel('Sepal width')\n",
    "\n",
    "pl.subplot(1, 2, 2)\n",
    "pl.scatter(x_iris[:, 2], x_iris[:, 3], c=y_iris, cmap=pl.cm.PuOr, lw=0, s=30)\n",
    "plt.xlabel('Petal length')\n",
    "plt.ylabel('Petal width')\n",
    "pl.show()"
   ]
  },
  {
   "cell_type": "markdown",
   "metadata": {},
   "source": [
    "Видно, что классы разделяются, поэтому можно надеяться, что наш алгоритм \"найдет\" кластеры, соответствующие исходным классам. Результат работы реализованного алгоритма кластеризации предлагается сравнить с эталонной кластеризацией. Для этого предлагается изучить метрику ([adjusted rand score](http://scikit-learn.org/stable/modules/generated/sklearn.metrics.adjusted_rand_score.html)). В случае если значение этой метрики отличается от 1, предлагается поработать над улучшением реализации своего алгоритма."
   ]
  },
  {
   "cell_type": "code",
   "execution_count": 366,
   "metadata": {},
   "outputs": [
    {
     "name": "stdout",
     "output_type": "stream",
     "text": [
      " Sklearn AGGL score 1.0. Sklearn AGGL time 0.012933969497680664\n"
     ]
    }
   ],
   "source": [
    "# Давайте проверим, как справляются sklearn реализации\n",
    "sklearn_aggl = AgglomerativeClustering(n_clusters=2)\n",
    "aggl_t0 = time.time()\n",
    "aggl_pred = sklearn_aggl.fit_predict(x_iris)\n",
    "aggl_diff = time.time() - aggl_t0\n",
    "aggl_score = smt.adjusted_rand_score(y_iris, aggl_pred)\n",
    "print (\" Sklearn AGGL score {}. Sklearn AGGL time {}\".format(aggl_score, aggl_diff))"
   ]
  },
  {
   "cell_type": "code",
   "execution_count": 417,
   "metadata": {},
   "outputs": [
    {
     "name": "stdout",
     "output_type": "stream",
     "text": [
      "Our AGGL score 1.0. Our AGGL time 0.022953033447265625\n"
     ]
    }
   ],
   "source": [
    "# Здесь предскажем кластера, посчитаем метрику кластеризации и время работы, сравним со склерном\n",
    "сustum_aggl = Clustering(metric='euclidean', linkage='average')\n",
    "aggl_t0 = time.time()\n",
    "aggl_pred = сustum_aggl.fit_predict(x_iris)\n",
    "aggl_diff = time.time() - aggl_t0\n",
    "aggl_score = smt.adjusted_rand_score(y_iris, aggl_pred)\n",
    "print (\"Our AGGL score {}. Our AGGL time {}\".format(aggl_score, aggl_diff))"
   ]
  },
  {
   "cell_type": "code",
   "execution_count": 418,
   "metadata": {},
   "outputs": [
    {
     "data": {
      "image/png": "[encoded data removed]",
      "text/plain": [
       "<Figure size 432x288 with 1 Axes>"
      ]
     },
     "metadata": {
      "needs_background": "light"
     },
     "output_type": "display_data"
    }
   ],
   "source": [
    "сustum_aggl.plot_dendrogram()"
   ]
  },
  {
   "cell_type": "markdown",
   "metadata": {
    "collapsed": true
   },
   "source": [
    "# Боевое применение (3  балла)\n"
   ]
  },
  {
   "cell_type": "markdown",
   "metadata": {
    "collapsed": true
   },
   "source": [
    "Алгоритмы кластеризации прекрасны тем, что они позволяют быстро понять, как устроены наши данные. Давайте применим Ваш алгоритм для нашего конкурса!"
   ]
  },
  {
   "cell_type": "markdown",
   "metadata": {},
   "source": [
    "Будем рассматривать каждую группу независимо от других групп. На каждой группе применим наш алгоритм и отрисуем денденограмму. По результатам кластерного анализа, Вам нужно ответить на следующие вопросы:\n",
    "\n",
    "1) Можно ли по дендонаграмме (или по другим результатам кластеризации) сказать, где в группе аномалии? Каким образом?\n",
    "\n",
    "##### Можно, если, например, в конце кластер, состоящий из одного объекта добавляется к конечному.\n",
    "\n",
    "2) Какое расстояние лучше использовать между заголовками страниц для кластеризации?\n",
    "\n",
    "##### Наилучшие параметры были следующие\n",
    "##### METRIC = seuclidean LINKAGE = complete, SCORE = 0.42265853011408855}\n",
    "\n",
    "2) Какое качество f1_score Вы смогли получить на обучающем множестве методами кластеризации? (валидацию можете не делать, если таргет не используете)\n",
    "\n",
    "##### SCORE = 0.42265853011408855\n",
    "\n",
    "4) Как можно результат кластеризации затем использовать для финальной модели обучения с учителем?\n",
    "\n",
    "##### Например добавить новую фичю в вектор признаков. Либо если будет хороший скор, то кластеризировать изначально"
   ]
  },
  {
   "cell_type": "markdown",
   "metadata": {},
   "source": [
    "Подсказка: самое важное - выбрать расстояние между заголовками. Самый простой вариант:  процент различных слов в двух заголовках."
   ]
  },
  {
   "cell_type": "code",
   "execution_count": 374,
   "metadata": {},
   "outputs": [
    {
     "name": "stdout",
     "output_type": "stream",
     "text": [
      "28026\n"
     ]
    }
   ],
   "source": [
    "doc_to_title = {}\n",
    "with open('docs_titles.tsv') as f:\n",
    "    for num_line, line in enumerate(f):\n",
    "        if num_line == 0:\n",
    "            continue\n",
    "        data = line.strip().split('\\t', 1)\n",
    "        doc_id = int(data[0])\n",
    "        if len(data) == 1:\n",
    "            title = ''\n",
    "        else:\n",
    "            title = data[1]\n",
    "        doc_to_title[doc_id] = title\n",
    "print(len(doc_to_title))"
   ]
  },
  {
   "cell_type": "code",
   "execution_count": 375,
   "metadata": {},
   "outputs": [],
   "source": [
    "train_data = pd.read_csv('train_groups.csv')\n",
    "traingroups_titledata = {}\n",
    "for i in range(len(train_data)):\n",
    "    new_doc = train_data.iloc[i]\n",
    "    doc_group = new_doc['group_id']\n",
    "    doc_id = new_doc['doc_id']\n",
    "    target = new_doc['target']\n",
    "    title = doc_to_title[doc_id]\n",
    "    if doc_group not in traingroups_titledata:\n",
    "        traingroups_titledata[doc_group] = []\n",
    "    traingroups_titledata[doc_group].append((doc_id, title, target))"
   ]
  },
  {
   "cell_type": "markdown",
   "metadata": {},
   "source": [
    "Кластеризацию проводите в каждой группе отдельно, то есть изучайте, можно ли в группе  найти подкластер выбросов\n",
    "\n",
    "Документы можно представлять, например, словами из тайтла.\n",
    "\n",
    "Главное подобрать хорошую функцию расстояния между документами\n"
   ]
  },
  {
   "cell_type": "markdown",
   "metadata": {},
   "source": [
    "Замечание: в кластеризации можно использовать все данные, то есть трейн + тест, чтобы находить больше закономерностей "
   ]
  },
  {
   "cell_type": "code",
   "execution_count": 381,
   "metadata": {},
   "outputs": [],
   "source": [
    "import numpy as np\n",
    "y_train = []\n",
    "X_train = []\n",
    "groups_train = []\n",
    "for new_group in traingroups_titledata:\n",
    "    docs = traingroups_titledata[new_group]\n",
    "    for k, (doc_id, title, target_id) in enumerate(docs):\n",
    "        y_train.append(target_id)\n",
    "        groups_train.append(new_group)\n",
    "        all_dist = []\n",
    "        words = set(title.strip().split())\n",
    "        for j in range(0, len(docs)):\n",
    "            if k == j:\n",
    "                continue\n",
    "            doc_id_j, title_j, target_j = docs[j]\n",
    "            words_j = set(title_j.strip().split())\n",
    "            all_dist.append(len(words.intersection(words_j)))\n",
    "        X_train.append(sorted(all_dist, reverse=True)[0:15]    )\n",
    "X_train = np.array(X_train)\n",
    "y_train = np.array(y_train)\n",
    "groups_train = np.array(groups_train)"
   ]
  },
  {
   "cell_type": "code",
   "execution_count": 428,
   "metadata": {},
   "outputs": [
    {
     "name": "stdout",
     "output_type": "stream",
     "text": [
      "METRIC = minkowski LINKAGE = single, SCORE = 0.35835900762120965\n",
      "METRIC = minkowski LINKAGE = complete, SCORE = 0.40786866685536377\n",
      "METRIC = minkowski LINKAGE = average, SCORE = 0.3676535572249227\n",
      "METRIC = seuclidean LINKAGE = single, SCORE = 0.3703129841958475\n",
      "METRIC = seuclidean LINKAGE = complete, SCORE = 0.42265853011408855\n",
      "METRIC = seuclidean LINKAGE = average, SCORE = 0.3833780160857909\n",
      "METRIC = sqeuclidean LINKAGE = single, SCORE = 0.3566183392958012\n",
      "METRIC = sqeuclidean LINKAGE = complete, SCORE = 0.41871710994168676\n",
      "METRIC = sqeuclidean LINKAGE = average, SCORE = 0.38034312300087236\n",
      "METRIC = cosine LINKAGE = single, SCORE = 0.2201195219123506\n",
      "METRIC = cosine LINKAGE = complete, SCORE = 0.3161812297734628\n",
      "METRIC = cosine LINKAGE = average, SCORE = 0.3263640999490056\n",
      "METRIC = cityblock LINKAGE = single, SCORE = 0.3566784321010589\n",
      "METRIC = cityblock LINKAGE = complete, SCORE = 0.389423076923077\n",
      "METRIC = cityblock LINKAGE = average, SCORE = 0.3954818415784958\n",
      "METRIC = euclidean LINKAGE = single, SCORE = 0.35835900762120965\n",
      "METRIC = euclidean LINKAGE = complete, SCORE = 0.40786866685536377\n",
      "METRIC = euclidean LINKAGE = average, SCORE = 0.3676535572249227\n",
      "METRIC = hamming LINKAGE = single, SCORE = 0.36975281556238115\n",
      "METRIC = hamming LINKAGE = complete, SCORE = 0.34789892503141145\n",
      "METRIC = hamming LINKAGE = average, SCORE = 0.36400937866354044\n",
      "METRIC = jaccard LINKAGE = single, SCORE = 0.08618606524365686\n",
      "METRIC = jaccard LINKAGE = complete, SCORE = 0.10405040504050406\n",
      "METRIC = jaccard LINKAGE = average, SCORE = 0.10901918594226286\n",
      "METRIC = braycurtis LINKAGE = single, SCORE = 0.28241335044929394\n",
      "METRIC = braycurtis LINKAGE = complete, SCORE = 0.368651714359371\n",
      "METRIC = braycurtis LINKAGE = average, SCORE = 0.33572881355932205\n",
      "METRIC = chebyshev LINKAGE = single, SCORE = 0.20238641578705827\n",
      "METRIC = chebyshev LINKAGE = complete, SCORE = 0.3340413207182854\n",
      "METRIC = chebyshev LINKAGE = average, SCORE = 0.3106567046795124\n"
     ]
    }
   ],
   "source": [
    "metrics =['minkowski', 'seuclidean', 'sqeuclidean',\n",
    "          'cosine', 'cityblock', 'euclidean',\n",
    "          'hamming', 'jaccard', 'braycurtis', 'chebyshev']\n",
    "linkages = ['single', 'complete', 'average']\n",
    "for metric in metrics:\n",
    "    for tmp_linkage in linkages:\n",
    "        res = []\n",
    "        Cluster_class = Clustering(metric=metric, linkage=tmp_linkage)\n",
    "        for group in range(1, np.max(groups_train) + 1):\n",
    "            res += Cluster_class.fit_predict(X_train[groups_train == group]).tolist()\n",
    "        score = f1_score(res, y_train)\n",
    "        print('METRIC = {} LINKAGE = {}, SCORE = {}'.format(metric, tmp_linkage, score))"
   ]
  },
  {
   "cell_type": "code",
   "execution_count": 430,
   "metadata": {},
   "outputs": [
    {
     "data": {
      "text/plain": [
       "0.42265853011408855"
      ]
     },
     "execution_count": 430,
     "metadata": {},
     "output_type": "execute_result"
    }
   ],
   "source": [
    "res = []\n",
    "Cluster_class = Clustering(metric='seuclidean', linkage='complete')\n",
    "for group in range(1, np.max(groups_train) + 1):\n",
    "    res += Cluster_class.fit_predict(X_train[groups_train == group]).tolist()\n",
    "f1_score(res, y_train)"
   ]
  },
  {
   "cell_type": "markdown",
   "metadata": {
    "collapsed": true
   },
   "source": [
    "Если получилось найти выбросы с помощью кластеризации, то не забывайте использовать его в финальном решении. Помните - использование различных подходов к решению задачи всегда улучшает финального качество."
   ]
  },
  {
   "cell_type": "markdown",
   "metadata": {},
   "source": [
    "Здесь Вы можете оставить отзыв о этой домашней работе или о всем курсе.   "
   ]
  },
  {
   "cell_type": "markdown",
   "metadata": {},
   "source": [
    "*** ВАШ ОТЗЫВ ЗДЕСЬ***"
   ]
  },
  {
   "cell_type": "markdown",
   "metadata": {
    "collapsed": true
   },
   "source": []
  },
  {
   "cell_type": "markdown",
   "metadata": {
    "collapsed": true
   },
   "source": []
  }
 ],
 "metadata": {
  "anaconda-cloud": {},
  "kernelspec": {
   "display_name": "Python 3",
   "language": "python",
   "name": "python3"
  },
  "language_info": {
   "codemirror_mode": {
    "name": "ipython",
    "version": 3
   },
   "file_extension": ".py",
   "mimetype": "text/x-python",
   "name": "python",
   "nbconvert_exporter": "python",
   "pygments_lexer": "ipython3",
   "version": "3.7.4"
  }
 },
 "nbformat": 4,
 "nbformat_minor": 1
}
